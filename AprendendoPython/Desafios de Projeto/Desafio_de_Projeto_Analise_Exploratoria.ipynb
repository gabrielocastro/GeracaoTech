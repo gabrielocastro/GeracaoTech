{
  "nbformat": 4,
  "nbformat_minor": 0,
  "metadata": {
    "colab": {
      "provenance": []
    },
    "kernelspec": {
      "name": "python3",
      "display_name": "Python 3"
    },
    "language_info": {
      "name": "python"
    }
  },
  "cells": [
    {
      "cell_type": "markdown",
      "source": [
        "## **Análise exploratória**"
      ],
      "metadata": {
        "id": "VvUd9AxeVsJs"
      }
    },
    {
      "cell_type": "code",
      "execution_count": 7,
      "metadata": {
        "id": "HpKbHeRLXuQ3"
      },
      "outputs": [],
      "source": [
        "#Importando as bibliotecas\n",
        "\n",
        "import pandas as pd\n",
        "import matplotlib.pyplot as plt\n",
        "plt.style.use(\"seaborn\")"
      ]
    },
    {
      "cell_type": "code",
      "source": [
        "#Importando arquivos\n",
        "\n",
        "from google.colab import drive\n",
        "drive.mount(\"/content/drive\", force_remount=True)\n"
      ],
      "metadata": {
        "colab": {
          "base_uri": "https://localhost:8080/"
        },
        "id": "TXtXBLCxZXGM",
        "outputId": "426a6149-5a28-4a6d-bbb0-3438efffa0f8"
      },
      "execution_count": 8,
      "outputs": [
        {
          "output_type": "stream",
          "name": "stdout",
          "text": [
            "Mounted at /content/drive\n"
          ]
        }
      ]
    },
    {
      "cell_type": "code",
      "source": [
        "#Criando o DataFrame\n",
        "\n",
        "df = pd.read_excel ('/content/drive/MyDrive/Colab DIO/AdventureWorks.xlsx')"
      ],
      "metadata": {
        "id": "m7n8Lr6qZeYz"
      },
      "execution_count": 9,
      "outputs": []
    },
    {
      "cell_type": "code",
      "source": [
        "#Visualizando 3 primeiras linhas\n",
        "\n",
        "df.head(3)"
      ],
      "metadata": {
        "colab": {
          "base_uri": "https://localhost:8080/",
          "height": 361
        },
        "id": "CEMDL_sDaQC1",
        "outputId": "f3ed5987-f7e4-4ce0-eee1-76d63e7790e1"
      },
      "execution_count": 10,
      "outputs": [
        {
          "output_type": "execute_result",
          "data": {
            "text/plain": [
              "  Data Venda Data Envio  ID Loja  ID Produto  ID Cliente       No. Venda  \\\n",
              "0 2008-05-09 2008-05-29      199         384       18839  200805093CS607   \n",
              "1 2008-05-12 2008-05-17      306         384       19051  200805123CS567   \n",
              "2 2008-05-14 2008-05-20      306         384       19052  200805143CS576   \n",
              "\n",
              "   Custo Unitário  Preço Unitário  Quantidade  Valor Desconto  Valor Venda  \\\n",
              "0          348.58           758.0           6             0.0       4548.0   \n",
              "1          348.58           758.0           6             0.0       4548.0   \n",
              "2          348.58           758.0           6             0.0       4548.0   \n",
              "\n",
              "                                 Produto       Fabricante            Marca  \\\n",
              "0  Adventure Works Laptop15.4W M1548 Red  Adventure Works  Adventure Works   \n",
              "1  Adventure Works Laptop15.4W M1548 Red  Adventure Works  Adventure Works   \n",
              "2  Adventure Works Laptop15.4W M1548 Red  Adventure Works  Adventure Works   \n",
              "\n",
              "    Classe  Cor  \n",
              "0  Regular  Red  \n",
              "1  Regular  Red  \n",
              "2  Regular  Red  "
            ],
            "text/html": [
              "\n",
              "  <div id=\"df-21916ec4-8ce9-4457-b455-8d2a422e0480\">\n",
              "    <div class=\"colab-df-container\">\n",
              "      <div>\n",
              "<style scoped>\n",
              "    .dataframe tbody tr th:only-of-type {\n",
              "        vertical-align: middle;\n",
              "    }\n",
              "\n",
              "    .dataframe tbody tr th {\n",
              "        vertical-align: top;\n",
              "    }\n",
              "\n",
              "    .dataframe thead th {\n",
              "        text-align: right;\n",
              "    }\n",
              "</style>\n",
              "<table border=\"1\" class=\"dataframe\">\n",
              "  <thead>\n",
              "    <tr style=\"text-align: right;\">\n",
              "      <th></th>\n",
              "      <th>Data Venda</th>\n",
              "      <th>Data Envio</th>\n",
              "      <th>ID Loja</th>\n",
              "      <th>ID Produto</th>\n",
              "      <th>ID Cliente</th>\n",
              "      <th>No. Venda</th>\n",
              "      <th>Custo Unitário</th>\n",
              "      <th>Preço Unitário</th>\n",
              "      <th>Quantidade</th>\n",
              "      <th>Valor Desconto</th>\n",
              "      <th>Valor Venda</th>\n",
              "      <th>Produto</th>\n",
              "      <th>Fabricante</th>\n",
              "      <th>Marca</th>\n",
              "      <th>Classe</th>\n",
              "      <th>Cor</th>\n",
              "    </tr>\n",
              "  </thead>\n",
              "  <tbody>\n",
              "    <tr>\n",
              "      <th>0</th>\n",
              "      <td>2008-05-09</td>\n",
              "      <td>2008-05-29</td>\n",
              "      <td>199</td>\n",
              "      <td>384</td>\n",
              "      <td>18839</td>\n",
              "      <td>200805093CS607</td>\n",
              "      <td>348.58</td>\n",
              "      <td>758.0</td>\n",
              "      <td>6</td>\n",
              "      <td>0.0</td>\n",
              "      <td>4548.0</td>\n",
              "      <td>Adventure Works Laptop15.4W M1548 Red</td>\n",
              "      <td>Adventure Works</td>\n",
              "      <td>Adventure Works</td>\n",
              "      <td>Regular</td>\n",
              "      <td>Red</td>\n",
              "    </tr>\n",
              "    <tr>\n",
              "      <th>1</th>\n",
              "      <td>2008-05-12</td>\n",
              "      <td>2008-05-17</td>\n",
              "      <td>306</td>\n",
              "      <td>384</td>\n",
              "      <td>19051</td>\n",
              "      <td>200805123CS567</td>\n",
              "      <td>348.58</td>\n",
              "      <td>758.0</td>\n",
              "      <td>6</td>\n",
              "      <td>0.0</td>\n",
              "      <td>4548.0</td>\n",
              "      <td>Adventure Works Laptop15.4W M1548 Red</td>\n",
              "      <td>Adventure Works</td>\n",
              "      <td>Adventure Works</td>\n",
              "      <td>Regular</td>\n",
              "      <td>Red</td>\n",
              "    </tr>\n",
              "    <tr>\n",
              "      <th>2</th>\n",
              "      <td>2008-05-14</td>\n",
              "      <td>2008-05-20</td>\n",
              "      <td>306</td>\n",
              "      <td>384</td>\n",
              "      <td>19052</td>\n",
              "      <td>200805143CS576</td>\n",
              "      <td>348.58</td>\n",
              "      <td>758.0</td>\n",
              "      <td>6</td>\n",
              "      <td>0.0</td>\n",
              "      <td>4548.0</td>\n",
              "      <td>Adventure Works Laptop15.4W M1548 Red</td>\n",
              "      <td>Adventure Works</td>\n",
              "      <td>Adventure Works</td>\n",
              "      <td>Regular</td>\n",
              "      <td>Red</td>\n",
              "    </tr>\n",
              "  </tbody>\n",
              "</table>\n",
              "</div>\n",
              "      <button class=\"colab-df-convert\" onclick=\"convertToInteractive('df-21916ec4-8ce9-4457-b455-8d2a422e0480')\"\n",
              "              title=\"Convert this dataframe to an interactive table.\"\n",
              "              style=\"display:none;\">\n",
              "        \n",
              "  <svg xmlns=\"http://www.w3.org/2000/svg\" height=\"24px\"viewBox=\"0 0 24 24\"\n",
              "       width=\"24px\">\n",
              "    <path d=\"M0 0h24v24H0V0z\" fill=\"none\"/>\n",
              "    <path d=\"M18.56 5.44l.94 2.06.94-2.06 2.06-.94-2.06-.94-.94-2.06-.94 2.06-2.06.94zm-11 1L8.5 8.5l.94-2.06 2.06-.94-2.06-.94L8.5 2.5l-.94 2.06-2.06.94zm10 10l.94 2.06.94-2.06 2.06-.94-2.06-.94-.94-2.06-.94 2.06-2.06.94z\"/><path d=\"M17.41 7.96l-1.37-1.37c-.4-.4-.92-.59-1.43-.59-.52 0-1.04.2-1.43.59L10.3 9.45l-7.72 7.72c-.78.78-.78 2.05 0 2.83L4 21.41c.39.39.9.59 1.41.59.51 0 1.02-.2 1.41-.59l7.78-7.78 2.81-2.81c.8-.78.8-2.07 0-2.86zM5.41 20L4 18.59l7.72-7.72 1.47 1.35L5.41 20z\"/>\n",
              "  </svg>\n",
              "      </button>\n",
              "      \n",
              "  <style>\n",
              "    .colab-df-container {\n",
              "      display:flex;\n",
              "      flex-wrap:wrap;\n",
              "      gap: 12px;\n",
              "    }\n",
              "\n",
              "    .colab-df-convert {\n",
              "      background-color: #E8F0FE;\n",
              "      border: none;\n",
              "      border-radius: 50%;\n",
              "      cursor: pointer;\n",
              "      display: none;\n",
              "      fill: #1967D2;\n",
              "      height: 32px;\n",
              "      padding: 0 0 0 0;\n",
              "      width: 32px;\n",
              "    }\n",
              "\n",
              "    .colab-df-convert:hover {\n",
              "      background-color: #E2EBFA;\n",
              "      box-shadow: 0px 1px 2px rgba(60, 64, 67, 0.3), 0px 1px 3px 1px rgba(60, 64, 67, 0.15);\n",
              "      fill: #174EA6;\n",
              "    }\n",
              "\n",
              "    [theme=dark] .colab-df-convert {\n",
              "      background-color: #3B4455;\n",
              "      fill: #D2E3FC;\n",
              "    }\n",
              "\n",
              "    [theme=dark] .colab-df-convert:hover {\n",
              "      background-color: #434B5C;\n",
              "      box-shadow: 0px 1px 3px 1px rgba(0, 0, 0, 0.15);\n",
              "      filter: drop-shadow(0px 1px 2px rgba(0, 0, 0, 0.3));\n",
              "      fill: #FFFFFF;\n",
              "    }\n",
              "  </style>\n",
              "\n",
              "      <script>\n",
              "        const buttonEl =\n",
              "          document.querySelector('#df-21916ec4-8ce9-4457-b455-8d2a422e0480 button.colab-df-convert');\n",
              "        buttonEl.style.display =\n",
              "          google.colab.kernel.accessAllowed ? 'block' : 'none';\n",
              "\n",
              "        async function convertToInteractive(key) {\n",
              "          const element = document.querySelector('#df-21916ec4-8ce9-4457-b455-8d2a422e0480');\n",
              "          const dataTable =\n",
              "            await google.colab.kernel.invokeFunction('convertToInteractive',\n",
              "                                                     [key], {});\n",
              "          if (!dataTable) return;\n",
              "\n",
              "          const docLinkHtml = 'Like what you see? Visit the ' +\n",
              "            '<a target=\"_blank\" href=https://colab.research.google.com/notebooks/data_table.ipynb>data table notebook</a>'\n",
              "            + ' to learn more about interactive tables.';\n",
              "          element.innerHTML = '';\n",
              "          dataTable['output_type'] = 'display_data';\n",
              "          await google.colab.output.renderOutput(dataTable, element);\n",
              "          const docLink = document.createElement('div');\n",
              "          docLink.innerHTML = docLinkHtml;\n",
              "          element.appendChild(docLink);\n",
              "        }\n",
              "      </script>\n",
              "    </div>\n",
              "  </div>\n",
              "  "
            ]
          },
          "metadata": {},
          "execution_count": 10
        }
      ]
    },
    {
      "cell_type": "code",
      "source": [
        "#Verificando o número de linhas e colunas\n",
        "\n",
        "df.shape"
      ],
      "metadata": {
        "colab": {
          "base_uri": "https://localhost:8080/"
        },
        "id": "2qp4pw13L_ts",
        "outputId": "a7e59516-3111-45b8-c6bc-b101817a408f"
      },
      "execution_count": 11,
      "outputs": [
        {
          "output_type": "execute_result",
          "data": {
            "text/plain": [
              "(904, 16)"
            ]
          },
          "metadata": {},
          "execution_count": 11
        }
      ]
    },
    {
      "cell_type": "code",
      "source": [
        "#Verificando os tipos de dados\n",
        "\n",
        "df.dtypes"
      ],
      "metadata": {
        "colab": {
          "base_uri": "https://localhost:8080/"
        },
        "id": "wHEpSkyPL_re",
        "outputId": "3d0c79b3-e15c-4a5a-be22-c5c8c89850b9"
      },
      "execution_count": 12,
      "outputs": [
        {
          "output_type": "execute_result",
          "data": {
            "text/plain": [
              "Data Venda        datetime64[ns]\n",
              "Data Envio        datetime64[ns]\n",
              "ID Loja                    int64\n",
              "ID Produto                 int64\n",
              "ID Cliente                 int64\n",
              "No. Venda                 object\n",
              "Custo Unitário           float64\n",
              "Preço Unitário           float64\n",
              "Quantidade                 int64\n",
              "Valor Desconto           float64\n",
              "Valor Venda              float64\n",
              "Produto                   object\n",
              "Fabricante                object\n",
              "Marca                     object\n",
              "Classe                    object\n",
              "Cor                       object\n",
              "dtype: object"
            ]
          },
          "metadata": {},
          "execution_count": 12
        }
      ]
    },
    {
      "cell_type": "code",
      "source": [
        "#Exibindo a receita total\n",
        "\n",
        "df[\"Valor Venda\"].sum()"
      ],
      "metadata": {
        "colab": {
          "base_uri": "https://localhost:8080/"
        },
        "id": "xxvTcHPeL_pQ",
        "outputId": "ff158e30-6d09-409e-8774-dca84d82cd6b"
      },
      "execution_count": 15,
      "outputs": [
        {
          "output_type": "execute_result",
          "data": {
            "text/plain": [
              "5984606.1426"
            ]
          },
          "metadata": {},
          "execution_count": 15
        }
      ]
    },
    {
      "cell_type": "code",
      "source": [
        "#Exibindo o total de produtos vendidos\n",
        "\n",
        "df[\"Quantidade\"].sum()"
      ],
      "metadata": {
        "colab": {
          "base_uri": "https://localhost:8080/"
        },
        "id": "MT3CccBkL_nN",
        "outputId": "d984f2bb-47d6-44fb-feb7-30d9cdaa480f"
      },
      "execution_count": 14,
      "outputs": [
        {
          "output_type": "execute_result",
          "data": {
            "text/plain": [
              "56907"
            ]
          },
          "metadata": {},
          "execution_count": 14
        }
      ]
    },
    {
      "cell_type": "code",
      "source": [
        "#Criando uma coluna de custo para exibir o total de custo\n",
        "\n",
        "df[\"custo\"] = df[\"Custo Unitário\"].mul(df[\"Quantidade\"]) \n"
      ],
      "metadata": {
        "id": "XaU24Tm2L_ku"
      },
      "execution_count": 16,
      "outputs": []
    },
    {
      "cell_type": "code",
      "source": [
        "#Verificando o resultado\n",
        "\n",
        "df.head(1)"
      ],
      "metadata": {
        "colab": {
          "base_uri": "https://localhost:8080/",
          "height": 194
        },
        "id": "j4uonp8sL_id",
        "outputId": "bb2c980b-3fc8-4a3c-86ab-dba6e64209e7"
      },
      "execution_count": 17,
      "outputs": [
        {
          "output_type": "execute_result",
          "data": {
            "text/plain": [
              "  Data Venda Data Envio  ID Loja  ID Produto  ID Cliente       No. Venda  \\\n",
              "0 2008-05-09 2008-05-29      199         384       18839  200805093CS607   \n",
              "\n",
              "   Custo Unitário  Preço Unitário  Quantidade  Valor Desconto  Valor Venda  \\\n",
              "0          348.58           758.0           6             0.0       4548.0   \n",
              "\n",
              "                                 Produto       Fabricante            Marca  \\\n",
              "0  Adventure Works Laptop15.4W M1548 Red  Adventure Works  Adventure Works   \n",
              "\n",
              "    Classe  Cor    custo  \n",
              "0  Regular  Red  2091.48  "
            ],
            "text/html": [
              "\n",
              "  <div id=\"df-b2a6a7f7-d636-4673-b61f-c6c42d13f9eb\">\n",
              "    <div class=\"colab-df-container\">\n",
              "      <div>\n",
              "<style scoped>\n",
              "    .dataframe tbody tr th:only-of-type {\n",
              "        vertical-align: middle;\n",
              "    }\n",
              "\n",
              "    .dataframe tbody tr th {\n",
              "        vertical-align: top;\n",
              "    }\n",
              "\n",
              "    .dataframe thead th {\n",
              "        text-align: right;\n",
              "    }\n",
              "</style>\n",
              "<table border=\"1\" class=\"dataframe\">\n",
              "  <thead>\n",
              "    <tr style=\"text-align: right;\">\n",
              "      <th></th>\n",
              "      <th>Data Venda</th>\n",
              "      <th>Data Envio</th>\n",
              "      <th>ID Loja</th>\n",
              "      <th>ID Produto</th>\n",
              "      <th>ID Cliente</th>\n",
              "      <th>No. Venda</th>\n",
              "      <th>Custo Unitário</th>\n",
              "      <th>Preço Unitário</th>\n",
              "      <th>Quantidade</th>\n",
              "      <th>Valor Desconto</th>\n",
              "      <th>Valor Venda</th>\n",
              "      <th>Produto</th>\n",
              "      <th>Fabricante</th>\n",
              "      <th>Marca</th>\n",
              "      <th>Classe</th>\n",
              "      <th>Cor</th>\n",
              "      <th>custo</th>\n",
              "    </tr>\n",
              "  </thead>\n",
              "  <tbody>\n",
              "    <tr>\n",
              "      <th>0</th>\n",
              "      <td>2008-05-09</td>\n",
              "      <td>2008-05-29</td>\n",
              "      <td>199</td>\n",
              "      <td>384</td>\n",
              "      <td>18839</td>\n",
              "      <td>200805093CS607</td>\n",
              "      <td>348.58</td>\n",
              "      <td>758.0</td>\n",
              "      <td>6</td>\n",
              "      <td>0.0</td>\n",
              "      <td>4548.0</td>\n",
              "      <td>Adventure Works Laptop15.4W M1548 Red</td>\n",
              "      <td>Adventure Works</td>\n",
              "      <td>Adventure Works</td>\n",
              "      <td>Regular</td>\n",
              "      <td>Red</td>\n",
              "      <td>2091.48</td>\n",
              "    </tr>\n",
              "  </tbody>\n",
              "</table>\n",
              "</div>\n",
              "      <button class=\"colab-df-convert\" onclick=\"convertToInteractive('df-b2a6a7f7-d636-4673-b61f-c6c42d13f9eb')\"\n",
              "              title=\"Convert this dataframe to an interactive table.\"\n",
              "              style=\"display:none;\">\n",
              "        \n",
              "  <svg xmlns=\"http://www.w3.org/2000/svg\" height=\"24px\"viewBox=\"0 0 24 24\"\n",
              "       width=\"24px\">\n",
              "    <path d=\"M0 0h24v24H0V0z\" fill=\"none\"/>\n",
              "    <path d=\"M18.56 5.44l.94 2.06.94-2.06 2.06-.94-2.06-.94-.94-2.06-.94 2.06-2.06.94zm-11 1L8.5 8.5l.94-2.06 2.06-.94-2.06-.94L8.5 2.5l-.94 2.06-2.06.94zm10 10l.94 2.06.94-2.06 2.06-.94-2.06-.94-.94-2.06-.94 2.06-2.06.94z\"/><path d=\"M17.41 7.96l-1.37-1.37c-.4-.4-.92-.59-1.43-.59-.52 0-1.04.2-1.43.59L10.3 9.45l-7.72 7.72c-.78.78-.78 2.05 0 2.83L4 21.41c.39.39.9.59 1.41.59.51 0 1.02-.2 1.41-.59l7.78-7.78 2.81-2.81c.8-.78.8-2.07 0-2.86zM5.41 20L4 18.59l7.72-7.72 1.47 1.35L5.41 20z\"/>\n",
              "  </svg>\n",
              "      </button>\n",
              "      \n",
              "  <style>\n",
              "    .colab-df-container {\n",
              "      display:flex;\n",
              "      flex-wrap:wrap;\n",
              "      gap: 12px;\n",
              "    }\n",
              "\n",
              "    .colab-df-convert {\n",
              "      background-color: #E8F0FE;\n",
              "      border: none;\n",
              "      border-radius: 50%;\n",
              "      cursor: pointer;\n",
              "      display: none;\n",
              "      fill: #1967D2;\n",
              "      height: 32px;\n",
              "      padding: 0 0 0 0;\n",
              "      width: 32px;\n",
              "    }\n",
              "\n",
              "    .colab-df-convert:hover {\n",
              "      background-color: #E2EBFA;\n",
              "      box-shadow: 0px 1px 2px rgba(60, 64, 67, 0.3), 0px 1px 3px 1px rgba(60, 64, 67, 0.15);\n",
              "      fill: #174EA6;\n",
              "    }\n",
              "\n",
              "    [theme=dark] .colab-df-convert {\n",
              "      background-color: #3B4455;\n",
              "      fill: #D2E3FC;\n",
              "    }\n",
              "\n",
              "    [theme=dark] .colab-df-convert:hover {\n",
              "      background-color: #434B5C;\n",
              "      box-shadow: 0px 1px 3px 1px rgba(0, 0, 0, 0.15);\n",
              "      filter: drop-shadow(0px 1px 2px rgba(0, 0, 0, 0.3));\n",
              "      fill: #FFFFFF;\n",
              "    }\n",
              "  </style>\n",
              "\n",
              "      <script>\n",
              "        const buttonEl =\n",
              "          document.querySelector('#df-b2a6a7f7-d636-4673-b61f-c6c42d13f9eb button.colab-df-convert');\n",
              "        buttonEl.style.display =\n",
              "          google.colab.kernel.accessAllowed ? 'block' : 'none';\n",
              "\n",
              "        async function convertToInteractive(key) {\n",
              "          const element = document.querySelector('#df-b2a6a7f7-d636-4673-b61f-c6c42d13f9eb');\n",
              "          const dataTable =\n",
              "            await google.colab.kernel.invokeFunction('convertToInteractive',\n",
              "                                                     [key], {});\n",
              "          if (!dataTable) return;\n",
              "\n",
              "          const docLinkHtml = 'Like what you see? Visit the ' +\n",
              "            '<a target=\"_blank\" href=https://colab.research.google.com/notebooks/data_table.ipynb>data table notebook</a>'\n",
              "            + ' to learn more about interactive tables.';\n",
              "          element.innerHTML = '';\n",
              "          dataTable['output_type'] = 'display_data';\n",
              "          await google.colab.output.renderOutput(dataTable, element);\n",
              "          const docLink = document.createElement('div');\n",
              "          docLink.innerHTML = docLinkHtml;\n",
              "          element.appendChild(docLink);\n",
              "        }\n",
              "      </script>\n",
              "    </div>\n",
              "  </div>\n",
              "  "
            ]
          },
          "metadata": {},
          "execution_count": 17
        }
      ]
    },
    {
      "cell_type": "code",
      "source": [
        "#Calculando o custo total\n",
        "\n",
        "round(df[\"custo\"].sum(), 2)"
      ],
      "metadata": {
        "colab": {
          "base_uri": "https://localhost:8080/"
        },
        "id": "firAYUlrL_fV",
        "outputId": "b248566e-d962-438f-cf71-76581aa864d4"
      },
      "execution_count": 18,
      "outputs": [
        {
          "output_type": "execute_result",
          "data": {
            "text/plain": [
              "2486783.05"
            ]
          },
          "metadata": {},
          "execution_count": 18
        }
      ]
    },
    {
      "cell_type": "code",
      "source": [
        "#Criando uma coluna de lucro para exibir o lucro total\n",
        "\n",
        "df[\"lucro\"]  = df[\"Valor Venda\"] - df[\"custo\"]"
      ],
      "metadata": {
        "id": "k4HX5H4qL_bl"
      },
      "execution_count": 19,
      "outputs": []
    },
    {
      "cell_type": "code",
      "source": [
        "#Verificando o resultado\n",
        "\n",
        "df.head(1)"
      ],
      "metadata": {
        "colab": {
          "base_uri": "https://localhost:8080/",
          "height": 214
        },
        "id": "PXYUtZohQc1-",
        "outputId": "00fd1deb-ac42-49da-e080-8e4408a2ccb3"
      },
      "execution_count": 20,
      "outputs": [
        {
          "output_type": "execute_result",
          "data": {
            "text/plain": [
              "  Data Venda Data Envio  ID Loja  ID Produto  ID Cliente       No. Venda  \\\n",
              "0 2008-05-09 2008-05-29      199         384       18839  200805093CS607   \n",
              "\n",
              "   Custo Unitário  Preço Unitário  Quantidade  Valor Desconto  Valor Venda  \\\n",
              "0          348.58           758.0           6             0.0       4548.0   \n",
              "\n",
              "                                 Produto       Fabricante            Marca  \\\n",
              "0  Adventure Works Laptop15.4W M1548 Red  Adventure Works  Adventure Works   \n",
              "\n",
              "    Classe  Cor    custo    lucro  \n",
              "0  Regular  Red  2091.48  2456.52  "
            ],
            "text/html": [
              "\n",
              "  <div id=\"df-688f549b-f96b-4779-bf9d-e34324792774\">\n",
              "    <div class=\"colab-df-container\">\n",
              "      <div>\n",
              "<style scoped>\n",
              "    .dataframe tbody tr th:only-of-type {\n",
              "        vertical-align: middle;\n",
              "    }\n",
              "\n",
              "    .dataframe tbody tr th {\n",
              "        vertical-align: top;\n",
              "    }\n",
              "\n",
              "    .dataframe thead th {\n",
              "        text-align: right;\n",
              "    }\n",
              "</style>\n",
              "<table border=\"1\" class=\"dataframe\">\n",
              "  <thead>\n",
              "    <tr style=\"text-align: right;\">\n",
              "      <th></th>\n",
              "      <th>Data Venda</th>\n",
              "      <th>Data Envio</th>\n",
              "      <th>ID Loja</th>\n",
              "      <th>ID Produto</th>\n",
              "      <th>ID Cliente</th>\n",
              "      <th>No. Venda</th>\n",
              "      <th>Custo Unitário</th>\n",
              "      <th>Preço Unitário</th>\n",
              "      <th>Quantidade</th>\n",
              "      <th>Valor Desconto</th>\n",
              "      <th>Valor Venda</th>\n",
              "      <th>Produto</th>\n",
              "      <th>Fabricante</th>\n",
              "      <th>Marca</th>\n",
              "      <th>Classe</th>\n",
              "      <th>Cor</th>\n",
              "      <th>custo</th>\n",
              "      <th>lucro</th>\n",
              "    </tr>\n",
              "  </thead>\n",
              "  <tbody>\n",
              "    <tr>\n",
              "      <th>0</th>\n",
              "      <td>2008-05-09</td>\n",
              "      <td>2008-05-29</td>\n",
              "      <td>199</td>\n",
              "      <td>384</td>\n",
              "      <td>18839</td>\n",
              "      <td>200805093CS607</td>\n",
              "      <td>348.58</td>\n",
              "      <td>758.0</td>\n",
              "      <td>6</td>\n",
              "      <td>0.0</td>\n",
              "      <td>4548.0</td>\n",
              "      <td>Adventure Works Laptop15.4W M1548 Red</td>\n",
              "      <td>Adventure Works</td>\n",
              "      <td>Adventure Works</td>\n",
              "      <td>Regular</td>\n",
              "      <td>Red</td>\n",
              "      <td>2091.48</td>\n",
              "      <td>2456.52</td>\n",
              "    </tr>\n",
              "  </tbody>\n",
              "</table>\n",
              "</div>\n",
              "      <button class=\"colab-df-convert\" onclick=\"convertToInteractive('df-688f549b-f96b-4779-bf9d-e34324792774')\"\n",
              "              title=\"Convert this dataframe to an interactive table.\"\n",
              "              style=\"display:none;\">\n",
              "        \n",
              "  <svg xmlns=\"http://www.w3.org/2000/svg\" height=\"24px\"viewBox=\"0 0 24 24\"\n",
              "       width=\"24px\">\n",
              "    <path d=\"M0 0h24v24H0V0z\" fill=\"none\"/>\n",
              "    <path d=\"M18.56 5.44l.94 2.06.94-2.06 2.06-.94-2.06-.94-.94-2.06-.94 2.06-2.06.94zm-11 1L8.5 8.5l.94-2.06 2.06-.94-2.06-.94L8.5 2.5l-.94 2.06-2.06.94zm10 10l.94 2.06.94-2.06 2.06-.94-2.06-.94-.94-2.06-.94 2.06-2.06.94z\"/><path d=\"M17.41 7.96l-1.37-1.37c-.4-.4-.92-.59-1.43-.59-.52 0-1.04.2-1.43.59L10.3 9.45l-7.72 7.72c-.78.78-.78 2.05 0 2.83L4 21.41c.39.39.9.59 1.41.59.51 0 1.02-.2 1.41-.59l7.78-7.78 2.81-2.81c.8-.78.8-2.07 0-2.86zM5.41 20L4 18.59l7.72-7.72 1.47 1.35L5.41 20z\"/>\n",
              "  </svg>\n",
              "      </button>\n",
              "      \n",
              "  <style>\n",
              "    .colab-df-container {\n",
              "      display:flex;\n",
              "      flex-wrap:wrap;\n",
              "      gap: 12px;\n",
              "    }\n",
              "\n",
              "    .colab-df-convert {\n",
              "      background-color: #E8F0FE;\n",
              "      border: none;\n",
              "      border-radius: 50%;\n",
              "      cursor: pointer;\n",
              "      display: none;\n",
              "      fill: #1967D2;\n",
              "      height: 32px;\n",
              "      padding: 0 0 0 0;\n",
              "      width: 32px;\n",
              "    }\n",
              "\n",
              "    .colab-df-convert:hover {\n",
              "      background-color: #E2EBFA;\n",
              "      box-shadow: 0px 1px 2px rgba(60, 64, 67, 0.3), 0px 1px 3px 1px rgba(60, 64, 67, 0.15);\n",
              "      fill: #174EA6;\n",
              "    }\n",
              "\n",
              "    [theme=dark] .colab-df-convert {\n",
              "      background-color: #3B4455;\n",
              "      fill: #D2E3FC;\n",
              "    }\n",
              "\n",
              "    [theme=dark] .colab-df-convert:hover {\n",
              "      background-color: #434B5C;\n",
              "      box-shadow: 0px 1px 3px 1px rgba(0, 0, 0, 0.15);\n",
              "      filter: drop-shadow(0px 1px 2px rgba(0, 0, 0, 0.3));\n",
              "      fill: #FFFFFF;\n",
              "    }\n",
              "  </style>\n",
              "\n",
              "      <script>\n",
              "        const buttonEl =\n",
              "          document.querySelector('#df-688f549b-f96b-4779-bf9d-e34324792774 button.colab-df-convert');\n",
              "        buttonEl.style.display =\n",
              "          google.colab.kernel.accessAllowed ? 'block' : 'none';\n",
              "\n",
              "        async function convertToInteractive(key) {\n",
              "          const element = document.querySelector('#df-688f549b-f96b-4779-bf9d-e34324792774');\n",
              "          const dataTable =\n",
              "            await google.colab.kernel.invokeFunction('convertToInteractive',\n",
              "                                                     [key], {});\n",
              "          if (!dataTable) return;\n",
              "\n",
              "          const docLinkHtml = 'Like what you see? Visit the ' +\n",
              "            '<a target=\"_blank\" href=https://colab.research.google.com/notebooks/data_table.ipynb>data table notebook</a>'\n",
              "            + ' to learn more about interactive tables.';\n",
              "          element.innerHTML = '';\n",
              "          dataTable['output_type'] = 'display_data';\n",
              "          await google.colab.output.renderOutput(dataTable, element);\n",
              "          const docLink = document.createElement('div');\n",
              "          docLink.innerHTML = docLinkHtml;\n",
              "          element.appendChild(docLink);\n",
              "        }\n",
              "      </script>\n",
              "    </div>\n",
              "  </div>\n",
              "  "
            ]
          },
          "metadata": {},
          "execution_count": 20
        }
      ]
    },
    {
      "cell_type": "code",
      "source": [
        "#Calculando o lucro total\n",
        "round(df[\"lucro\"].sum(),2)"
      ],
      "metadata": {
        "colab": {
          "base_uri": "https://localhost:8080/"
        },
        "id": "TAVE476ZQcz0",
        "outputId": "abd44ac7-47af-4ab6-843f-8e17356612ca"
      },
      "execution_count": 21,
      "outputs": [
        {
          "output_type": "execute_result",
          "data": {
            "text/plain": [
              "3497823.09"
            ]
          },
          "metadata": {},
          "execution_count": 21
        }
      ]
    },
    {
      "cell_type": "code",
      "source": [
        "#Criando uma coluna para exibir o tempo de envio do produto\n",
        "\n",
        "df[\"Tempo de Envio\"] = df[\"Data Envio\"] - df[\"Data Venda\"]"
      ],
      "metadata": {
        "id": "XEp3ESYeQcxN"
      },
      "execution_count": 27,
      "outputs": []
    },
    {
      "cell_type": "code",
      "source": [
        "#Verificando o resultado\n",
        "\n",
        "df.head(1)"
      ],
      "metadata": {
        "colab": {
          "base_uri": "https://localhost:8080/",
          "height": 232
        },
        "id": "_JHEnPiFQcuk",
        "outputId": "2893592a-5742-406d-da21-89b00ad740d2"
      },
      "execution_count": 28,
      "outputs": [
        {
          "output_type": "execute_result",
          "data": {
            "text/plain": [
              "  Data Venda Data Envio  ID Loja  ID Produto  ID Cliente       No. Venda  \\\n",
              "0 2008-05-09 2008-05-29      199         384       18839  200805093CS607   \n",
              "\n",
              "   Custo Unitário  Preço Unitário  Quantidade  Valor Desconto  Valor Venda  \\\n",
              "0          348.58           758.0           6             0.0       4548.0   \n",
              "\n",
              "                                 Produto       Fabricante            Marca  \\\n",
              "0  Adventure Works Laptop15.4W M1548 Red  Adventure Works  Adventure Works   \n",
              "\n",
              "    Classe  Cor    custo    lucro  Tempo_envio Tempo de Envio  \n",
              "0  Regular  Red  2091.48  2456.52           20        20 days  "
            ],
            "text/html": [
              "\n",
              "  <div id=\"df-9f30a797-554a-455a-a41f-9e30464942ab\">\n",
              "    <div class=\"colab-df-container\">\n",
              "      <div>\n",
              "<style scoped>\n",
              "    .dataframe tbody tr th:only-of-type {\n",
              "        vertical-align: middle;\n",
              "    }\n",
              "\n",
              "    .dataframe tbody tr th {\n",
              "        vertical-align: top;\n",
              "    }\n",
              "\n",
              "    .dataframe thead th {\n",
              "        text-align: right;\n",
              "    }\n",
              "</style>\n",
              "<table border=\"1\" class=\"dataframe\">\n",
              "  <thead>\n",
              "    <tr style=\"text-align: right;\">\n",
              "      <th></th>\n",
              "      <th>Data Venda</th>\n",
              "      <th>Data Envio</th>\n",
              "      <th>ID Loja</th>\n",
              "      <th>ID Produto</th>\n",
              "      <th>ID Cliente</th>\n",
              "      <th>No. Venda</th>\n",
              "      <th>Custo Unitário</th>\n",
              "      <th>Preço Unitário</th>\n",
              "      <th>Quantidade</th>\n",
              "      <th>Valor Desconto</th>\n",
              "      <th>Valor Venda</th>\n",
              "      <th>Produto</th>\n",
              "      <th>Fabricante</th>\n",
              "      <th>Marca</th>\n",
              "      <th>Classe</th>\n",
              "      <th>Cor</th>\n",
              "      <th>custo</th>\n",
              "      <th>lucro</th>\n",
              "      <th>Tempo_envio</th>\n",
              "      <th>Tempo de Envio</th>\n",
              "    </tr>\n",
              "  </thead>\n",
              "  <tbody>\n",
              "    <tr>\n",
              "      <th>0</th>\n",
              "      <td>2008-05-09</td>\n",
              "      <td>2008-05-29</td>\n",
              "      <td>199</td>\n",
              "      <td>384</td>\n",
              "      <td>18839</td>\n",
              "      <td>200805093CS607</td>\n",
              "      <td>348.58</td>\n",
              "      <td>758.0</td>\n",
              "      <td>6</td>\n",
              "      <td>0.0</td>\n",
              "      <td>4548.0</td>\n",
              "      <td>Adventure Works Laptop15.4W M1548 Red</td>\n",
              "      <td>Adventure Works</td>\n",
              "      <td>Adventure Works</td>\n",
              "      <td>Regular</td>\n",
              "      <td>Red</td>\n",
              "      <td>2091.48</td>\n",
              "      <td>2456.52</td>\n",
              "      <td>20</td>\n",
              "      <td>20 days</td>\n",
              "    </tr>\n",
              "  </tbody>\n",
              "</table>\n",
              "</div>\n",
              "      <button class=\"colab-df-convert\" onclick=\"convertToInteractive('df-9f30a797-554a-455a-a41f-9e30464942ab')\"\n",
              "              title=\"Convert this dataframe to an interactive table.\"\n",
              "              style=\"display:none;\">\n",
              "        \n",
              "  <svg xmlns=\"http://www.w3.org/2000/svg\" height=\"24px\"viewBox=\"0 0 24 24\"\n",
              "       width=\"24px\">\n",
              "    <path d=\"M0 0h24v24H0V0z\" fill=\"none\"/>\n",
              "    <path d=\"M18.56 5.44l.94 2.06.94-2.06 2.06-.94-2.06-.94-.94-2.06-.94 2.06-2.06.94zm-11 1L8.5 8.5l.94-2.06 2.06-.94-2.06-.94L8.5 2.5l-.94 2.06-2.06.94zm10 10l.94 2.06.94-2.06 2.06-.94-2.06-.94-.94-2.06-.94 2.06-2.06.94z\"/><path d=\"M17.41 7.96l-1.37-1.37c-.4-.4-.92-.59-1.43-.59-.52 0-1.04.2-1.43.59L10.3 9.45l-7.72 7.72c-.78.78-.78 2.05 0 2.83L4 21.41c.39.39.9.59 1.41.59.51 0 1.02-.2 1.41-.59l7.78-7.78 2.81-2.81c.8-.78.8-2.07 0-2.86zM5.41 20L4 18.59l7.72-7.72 1.47 1.35L5.41 20z\"/>\n",
              "  </svg>\n",
              "      </button>\n",
              "      \n",
              "  <style>\n",
              "    .colab-df-container {\n",
              "      display:flex;\n",
              "      flex-wrap:wrap;\n",
              "      gap: 12px;\n",
              "    }\n",
              "\n",
              "    .colab-df-convert {\n",
              "      background-color: #E8F0FE;\n",
              "      border: none;\n",
              "      border-radius: 50%;\n",
              "      cursor: pointer;\n",
              "      display: none;\n",
              "      fill: #1967D2;\n",
              "      height: 32px;\n",
              "      padding: 0 0 0 0;\n",
              "      width: 32px;\n",
              "    }\n",
              "\n",
              "    .colab-df-convert:hover {\n",
              "      background-color: #E2EBFA;\n",
              "      box-shadow: 0px 1px 2px rgba(60, 64, 67, 0.3), 0px 1px 3px 1px rgba(60, 64, 67, 0.15);\n",
              "      fill: #174EA6;\n",
              "    }\n",
              "\n",
              "    [theme=dark] .colab-df-convert {\n",
              "      background-color: #3B4455;\n",
              "      fill: #D2E3FC;\n",
              "    }\n",
              "\n",
              "    [theme=dark] .colab-df-convert:hover {\n",
              "      background-color: #434B5C;\n",
              "      box-shadow: 0px 1px 3px 1px rgba(0, 0, 0, 0.15);\n",
              "      filter: drop-shadow(0px 1px 2px rgba(0, 0, 0, 0.3));\n",
              "      fill: #FFFFFF;\n",
              "    }\n",
              "  </style>\n",
              "\n",
              "      <script>\n",
              "        const buttonEl =\n",
              "          document.querySelector('#df-9f30a797-554a-455a-a41f-9e30464942ab button.colab-df-convert');\n",
              "        buttonEl.style.display =\n",
              "          google.colab.kernel.accessAllowed ? 'block' : 'none';\n",
              "\n",
              "        async function convertToInteractive(key) {\n",
              "          const element = document.querySelector('#df-9f30a797-554a-455a-a41f-9e30464942ab');\n",
              "          const dataTable =\n",
              "            await google.colab.kernel.invokeFunction('convertToInteractive',\n",
              "                                                     [key], {});\n",
              "          if (!dataTable) return;\n",
              "\n",
              "          const docLinkHtml = 'Like what you see? Visit the ' +\n",
              "            '<a target=\"_blank\" href=https://colab.research.google.com/notebooks/data_table.ipynb>data table notebook</a>'\n",
              "            + ' to learn more about interactive tables.';\n",
              "          element.innerHTML = '';\n",
              "          dataTable['output_type'] = 'display_data';\n",
              "          await google.colab.output.renderOutput(dataTable, element);\n",
              "          const docLink = document.createElement('div');\n",
              "          docLink.innerHTML = docLinkHtml;\n",
              "          element.appendChild(docLink);\n",
              "        }\n",
              "      </script>\n",
              "    </div>\n",
              "  </div>\n",
              "  "
            ]
          },
          "metadata": {},
          "execution_count": 28
        }
      ]
    },
    {
      "cell_type": "code",
      "source": [
        "#Calculando apenas os dias\n",
        "\n",
        "df[\"Tempo de Envio\"] = (df[\"Data Envio\"] - df[\"Data Venda\"]).dt.days"
      ],
      "metadata": {
        "id": "85xEsxX8T60L"
      },
      "execution_count": 29,
      "outputs": []
    },
    {
      "cell_type": "code",
      "source": [
        "#Verificando o resultado\n",
        "\n",
        "df.head(1)"
      ],
      "metadata": {
        "colab": {
          "base_uri": "https://localhost:8080/",
          "height": 232
        },
        "id": "4VB4gVSaT6wj",
        "outputId": "ee4960cb-7775-4076-bc24-7f2595ade61c"
      },
      "execution_count": 30,
      "outputs": [
        {
          "output_type": "execute_result",
          "data": {
            "text/plain": [
              "  Data Venda Data Envio  ID Loja  ID Produto  ID Cliente       No. Venda  \\\n",
              "0 2008-05-09 2008-05-29      199         384       18839  200805093CS607   \n",
              "\n",
              "   Custo Unitário  Preço Unitário  Quantidade  Valor Desconto  Valor Venda  \\\n",
              "0          348.58           758.0           6             0.0       4548.0   \n",
              "\n",
              "                                 Produto       Fabricante            Marca  \\\n",
              "0  Adventure Works Laptop15.4W M1548 Red  Adventure Works  Adventure Works   \n",
              "\n",
              "    Classe  Cor    custo    lucro  Tempo_envio  Tempo de Envio  \n",
              "0  Regular  Red  2091.48  2456.52           20              20  "
            ],
            "text/html": [
              "\n",
              "  <div id=\"df-0ac01fd2-b348-47c9-b082-3cffb32d4f6a\">\n",
              "    <div class=\"colab-df-container\">\n",
              "      <div>\n",
              "<style scoped>\n",
              "    .dataframe tbody tr th:only-of-type {\n",
              "        vertical-align: middle;\n",
              "    }\n",
              "\n",
              "    .dataframe tbody tr th {\n",
              "        vertical-align: top;\n",
              "    }\n",
              "\n",
              "    .dataframe thead th {\n",
              "        text-align: right;\n",
              "    }\n",
              "</style>\n",
              "<table border=\"1\" class=\"dataframe\">\n",
              "  <thead>\n",
              "    <tr style=\"text-align: right;\">\n",
              "      <th></th>\n",
              "      <th>Data Venda</th>\n",
              "      <th>Data Envio</th>\n",
              "      <th>ID Loja</th>\n",
              "      <th>ID Produto</th>\n",
              "      <th>ID Cliente</th>\n",
              "      <th>No. Venda</th>\n",
              "      <th>Custo Unitário</th>\n",
              "      <th>Preço Unitário</th>\n",
              "      <th>Quantidade</th>\n",
              "      <th>Valor Desconto</th>\n",
              "      <th>Valor Venda</th>\n",
              "      <th>Produto</th>\n",
              "      <th>Fabricante</th>\n",
              "      <th>Marca</th>\n",
              "      <th>Classe</th>\n",
              "      <th>Cor</th>\n",
              "      <th>custo</th>\n",
              "      <th>lucro</th>\n",
              "      <th>Tempo_envio</th>\n",
              "      <th>Tempo de Envio</th>\n",
              "    </tr>\n",
              "  </thead>\n",
              "  <tbody>\n",
              "    <tr>\n",
              "      <th>0</th>\n",
              "      <td>2008-05-09</td>\n",
              "      <td>2008-05-29</td>\n",
              "      <td>199</td>\n",
              "      <td>384</td>\n",
              "      <td>18839</td>\n",
              "      <td>200805093CS607</td>\n",
              "      <td>348.58</td>\n",
              "      <td>758.0</td>\n",
              "      <td>6</td>\n",
              "      <td>0.0</td>\n",
              "      <td>4548.0</td>\n",
              "      <td>Adventure Works Laptop15.4W M1548 Red</td>\n",
              "      <td>Adventure Works</td>\n",
              "      <td>Adventure Works</td>\n",
              "      <td>Regular</td>\n",
              "      <td>Red</td>\n",
              "      <td>2091.48</td>\n",
              "      <td>2456.52</td>\n",
              "      <td>20</td>\n",
              "      <td>20</td>\n",
              "    </tr>\n",
              "  </tbody>\n",
              "</table>\n",
              "</div>\n",
              "      <button class=\"colab-df-convert\" onclick=\"convertToInteractive('df-0ac01fd2-b348-47c9-b082-3cffb32d4f6a')\"\n",
              "              title=\"Convert this dataframe to an interactive table.\"\n",
              "              style=\"display:none;\">\n",
              "        \n",
              "  <svg xmlns=\"http://www.w3.org/2000/svg\" height=\"24px\"viewBox=\"0 0 24 24\"\n",
              "       width=\"24px\">\n",
              "    <path d=\"M0 0h24v24H0V0z\" fill=\"none\"/>\n",
              "    <path d=\"M18.56 5.44l.94 2.06.94-2.06 2.06-.94-2.06-.94-.94-2.06-.94 2.06-2.06.94zm-11 1L8.5 8.5l.94-2.06 2.06-.94-2.06-.94L8.5 2.5l-.94 2.06-2.06.94zm10 10l.94 2.06.94-2.06 2.06-.94-2.06-.94-.94-2.06-.94 2.06-2.06.94z\"/><path d=\"M17.41 7.96l-1.37-1.37c-.4-.4-.92-.59-1.43-.59-.52 0-1.04.2-1.43.59L10.3 9.45l-7.72 7.72c-.78.78-.78 2.05 0 2.83L4 21.41c.39.39.9.59 1.41.59.51 0 1.02-.2 1.41-.59l7.78-7.78 2.81-2.81c.8-.78.8-2.07 0-2.86zM5.41 20L4 18.59l7.72-7.72 1.47 1.35L5.41 20z\"/>\n",
              "  </svg>\n",
              "      </button>\n",
              "      \n",
              "  <style>\n",
              "    .colab-df-container {\n",
              "      display:flex;\n",
              "      flex-wrap:wrap;\n",
              "      gap: 12px;\n",
              "    }\n",
              "\n",
              "    .colab-df-convert {\n",
              "      background-color: #E8F0FE;\n",
              "      border: none;\n",
              "      border-radius: 50%;\n",
              "      cursor: pointer;\n",
              "      display: none;\n",
              "      fill: #1967D2;\n",
              "      height: 32px;\n",
              "      padding: 0 0 0 0;\n",
              "      width: 32px;\n",
              "    }\n",
              "\n",
              "    .colab-df-convert:hover {\n",
              "      background-color: #E2EBFA;\n",
              "      box-shadow: 0px 1px 2px rgba(60, 64, 67, 0.3), 0px 1px 3px 1px rgba(60, 64, 67, 0.15);\n",
              "      fill: #174EA6;\n",
              "    }\n",
              "\n",
              "    [theme=dark] .colab-df-convert {\n",
              "      background-color: #3B4455;\n",
              "      fill: #D2E3FC;\n",
              "    }\n",
              "\n",
              "    [theme=dark] .colab-df-convert:hover {\n",
              "      background-color: #434B5C;\n",
              "      box-shadow: 0px 1px 3px 1px rgba(0, 0, 0, 0.15);\n",
              "      filter: drop-shadow(0px 1px 2px rgba(0, 0, 0, 0.3));\n",
              "      fill: #FFFFFF;\n",
              "    }\n",
              "  </style>\n",
              "\n",
              "      <script>\n",
              "        const buttonEl =\n",
              "          document.querySelector('#df-0ac01fd2-b348-47c9-b082-3cffb32d4f6a button.colab-df-convert');\n",
              "        buttonEl.style.display =\n",
              "          google.colab.kernel.accessAllowed ? 'block' : 'none';\n",
              "\n",
              "        async function convertToInteractive(key) {\n",
              "          const element = document.querySelector('#df-0ac01fd2-b348-47c9-b082-3cffb32d4f6a');\n",
              "          const dataTable =\n",
              "            await google.colab.kernel.invokeFunction('convertToInteractive',\n",
              "                                                     [key], {});\n",
              "          if (!dataTable) return;\n",
              "\n",
              "          const docLinkHtml = 'Like what you see? Visit the ' +\n",
              "            '<a target=\"_blank\" href=https://colab.research.google.com/notebooks/data_table.ipynb>data table notebook</a>'\n",
              "            + ' to learn more about interactive tables.';\n",
              "          element.innerHTML = '';\n",
              "          dataTable['output_type'] = 'display_data';\n",
              "          await google.colab.output.renderOutput(dataTable, element);\n",
              "          const docLink = document.createElement('div');\n",
              "          docLink.innerHTML = docLinkHtml;\n",
              "          element.appendChild(docLink);\n",
              "        }\n",
              "      </script>\n",
              "    </div>\n",
              "  </div>\n",
              "  "
            ]
          },
          "metadata": {},
          "execution_count": 30
        }
      ]
    },
    {
      "cell_type": "code",
      "source": [
        "#Verificando o tipo da coluna Tempo de Envio\n",
        "\n",
        "df[\"Tempo de Envio\"].dtype"
      ],
      "metadata": {
        "colab": {
          "base_uri": "https://localhost:8080/"
        },
        "id": "jO_scvauT6n1",
        "outputId": "1596ce52-1698-496b-dc5c-488572fa9c5f"
      },
      "execution_count": 32,
      "outputs": [
        {
          "output_type": "execute_result",
          "data": {
            "text/plain": [
              "dtype('int64')"
            ]
          },
          "metadata": {},
          "execution_count": 32
        }
      ]
    },
    {
      "cell_type": "code",
      "source": [
        "#Tempo de envio médio por Marca\n",
        "\n",
        "df.groupby(\"Marca\")[\"Tempo de Envio\"].mean()"
      ],
      "metadata": {
        "colab": {
          "base_uri": "https://localhost:8080/"
        },
        "id": "e0xzL5hlT6id",
        "outputId": "b6d70699-aca7-4d01-e249-82fc2dbaafe0"
      },
      "execution_count": 33,
      "outputs": [
        {
          "output_type": "execute_result",
          "data": {
            "text/plain": [
              "Marca\n",
              "Adventure Works    8.663866\n",
              "Contoso            8.470930\n",
              "Fabrikam           8.510121\n",
              "Name: Tempo de Envio, dtype: float64"
            ]
          },
          "metadata": {},
          "execution_count": 33
        }
      ]
    },
    {
      "cell_type": "code",
      "source": [
        "#Verificando se há dados faltantes\n",
        "\n",
        "df.isnull().sum()"
      ],
      "metadata": {
        "colab": {
          "base_uri": "https://localhost:8080/"
        },
        "id": "97xOGGpXQcsM",
        "outputId": "88299fde-91d3-4eba-a129-f6350d1af46e"
      },
      "execution_count": 37,
      "outputs": [
        {
          "output_type": "execute_result",
          "data": {
            "text/plain": [
              "Data Venda        0\n",
              "Data Envio        0\n",
              "ID Loja           0\n",
              "ID Produto        0\n",
              "ID Cliente        0\n",
              "No. Venda         0\n",
              "Custo Unitário    0\n",
              "Preço Unitário    0\n",
              "Quantidade        0\n",
              "Valor Desconto    0\n",
              "Valor Venda       0\n",
              "Produto           0\n",
              "Fabricante        0\n",
              "Marca             0\n",
              "Classe            0\n",
              "Cor               0\n",
              "custo             0\n",
              "lucro             0\n",
              "Tempo_envio       0\n",
              "Tempo de Envio    0\n",
              "dtype: int64"
            ]
          },
          "metadata": {},
          "execution_count": 37
        }
      ]
    },
    {
      "cell_type": "code",
      "source": [
        "#Agrupando por ano e marca\n",
        "\n",
        "df.groupby([df[\"Data Venda\"].dt.year, \"Marca\"])[\"lucro\"].sum()"
      ],
      "metadata": {
        "colab": {
          "base_uri": "https://localhost:8080/"
        },
        "id": "njL-z6HJQcpt",
        "outputId": "055542cd-a171-4ff4-cb94-6ff3b0184af2"
      },
      "execution_count": 38,
      "outputs": [
        {
          "output_type": "execute_result",
          "data": {
            "text/plain": [
              "Data Venda  Marca          \n",
              "2008        Adventure Works             306,641.16\n",
              "            Contoso                      56,416.00\n",
              "            Fabrikam                  1,557,020.55\n",
              "2009        Adventure Works             405,395.08\n",
              "            Contoso                     138,258.95\n",
              "            Fabrikam                  1,034,091.35\n",
              "Name: lucro, dtype: float64"
            ]
          },
          "metadata": {},
          "execution_count": 38
        }
      ]
    },
    {
      "cell_type": "code",
      "source": [
        "pd.options.display.float_format = '{:20,.2f}'.format"
      ],
      "metadata": {
        "id": "YxgUVGvIQcm0"
      },
      "execution_count": 39,
      "outputs": []
    },
    {
      "cell_type": "code",
      "source": [
        "#Resetando o index\n",
        "\n",
        "lucro_ano = df.groupby([df[\"Data Venda\"].dt.year, \"Marca\"])[\"lucro\"].sum().reset_index()\n",
        "lucro_ano"
      ],
      "metadata": {
        "colab": {
          "base_uri": "https://localhost:8080/",
          "height": 238
        },
        "id": "Xl0lqYwpL_Ol",
        "outputId": "3f7c5b5c-dd7a-4711-91ed-093d879406e3"
      },
      "execution_count": 40,
      "outputs": [
        {
          "output_type": "execute_result",
          "data": {
            "text/plain": [
              "   Data Venda            Marca                lucro\n",
              "0        2008  Adventure Works           306,641.16\n",
              "1        2008          Contoso            56,416.00\n",
              "2        2008         Fabrikam         1,557,020.55\n",
              "3        2009  Adventure Works           405,395.08\n",
              "4        2009          Contoso           138,258.95\n",
              "5        2009         Fabrikam         1,034,091.35"
            ],
            "text/html": [
              "\n",
              "  <div id=\"df-3319fcbd-0bc5-4a2d-86e6-6112d829204c\">\n",
              "    <div class=\"colab-df-container\">\n",
              "      <div>\n",
              "<style scoped>\n",
              "    .dataframe tbody tr th:only-of-type {\n",
              "        vertical-align: middle;\n",
              "    }\n",
              "\n",
              "    .dataframe tbody tr th {\n",
              "        vertical-align: top;\n",
              "    }\n",
              "\n",
              "    .dataframe thead th {\n",
              "        text-align: right;\n",
              "    }\n",
              "</style>\n",
              "<table border=\"1\" class=\"dataframe\">\n",
              "  <thead>\n",
              "    <tr style=\"text-align: right;\">\n",
              "      <th></th>\n",
              "      <th>Data Venda</th>\n",
              "      <th>Marca</th>\n",
              "      <th>lucro</th>\n",
              "    </tr>\n",
              "  </thead>\n",
              "  <tbody>\n",
              "    <tr>\n",
              "      <th>0</th>\n",
              "      <td>2008</td>\n",
              "      <td>Adventure Works</td>\n",
              "      <td>306,641.16</td>\n",
              "    </tr>\n",
              "    <tr>\n",
              "      <th>1</th>\n",
              "      <td>2008</td>\n",
              "      <td>Contoso</td>\n",
              "      <td>56,416.00</td>\n",
              "    </tr>\n",
              "    <tr>\n",
              "      <th>2</th>\n",
              "      <td>2008</td>\n",
              "      <td>Fabrikam</td>\n",
              "      <td>1,557,020.55</td>\n",
              "    </tr>\n",
              "    <tr>\n",
              "      <th>3</th>\n",
              "      <td>2009</td>\n",
              "      <td>Adventure Works</td>\n",
              "      <td>405,395.08</td>\n",
              "    </tr>\n",
              "    <tr>\n",
              "      <th>4</th>\n",
              "      <td>2009</td>\n",
              "      <td>Contoso</td>\n",
              "      <td>138,258.95</td>\n",
              "    </tr>\n",
              "    <tr>\n",
              "      <th>5</th>\n",
              "      <td>2009</td>\n",
              "      <td>Fabrikam</td>\n",
              "      <td>1,034,091.35</td>\n",
              "    </tr>\n",
              "  </tbody>\n",
              "</table>\n",
              "</div>\n",
              "      <button class=\"colab-df-convert\" onclick=\"convertToInteractive('df-3319fcbd-0bc5-4a2d-86e6-6112d829204c')\"\n",
              "              title=\"Convert this dataframe to an interactive table.\"\n",
              "              style=\"display:none;\">\n",
              "        \n",
              "  <svg xmlns=\"http://www.w3.org/2000/svg\" height=\"24px\"viewBox=\"0 0 24 24\"\n",
              "       width=\"24px\">\n",
              "    <path d=\"M0 0h24v24H0V0z\" fill=\"none\"/>\n",
              "    <path d=\"M18.56 5.44l.94 2.06.94-2.06 2.06-.94-2.06-.94-.94-2.06-.94 2.06-2.06.94zm-11 1L8.5 8.5l.94-2.06 2.06-.94-2.06-.94L8.5 2.5l-.94 2.06-2.06.94zm10 10l.94 2.06.94-2.06 2.06-.94-2.06-.94-.94-2.06-.94 2.06-2.06.94z\"/><path d=\"M17.41 7.96l-1.37-1.37c-.4-.4-.92-.59-1.43-.59-.52 0-1.04.2-1.43.59L10.3 9.45l-7.72 7.72c-.78.78-.78 2.05 0 2.83L4 21.41c.39.39.9.59 1.41.59.51 0 1.02-.2 1.41-.59l7.78-7.78 2.81-2.81c.8-.78.8-2.07 0-2.86zM5.41 20L4 18.59l7.72-7.72 1.47 1.35L5.41 20z\"/>\n",
              "  </svg>\n",
              "      </button>\n",
              "      \n",
              "  <style>\n",
              "    .colab-df-container {\n",
              "      display:flex;\n",
              "      flex-wrap:wrap;\n",
              "      gap: 12px;\n",
              "    }\n",
              "\n",
              "    .colab-df-convert {\n",
              "      background-color: #E8F0FE;\n",
              "      border: none;\n",
              "      border-radius: 50%;\n",
              "      cursor: pointer;\n",
              "      display: none;\n",
              "      fill: #1967D2;\n",
              "      height: 32px;\n",
              "      padding: 0 0 0 0;\n",
              "      width: 32px;\n",
              "    }\n",
              "\n",
              "    .colab-df-convert:hover {\n",
              "      background-color: #E2EBFA;\n",
              "      box-shadow: 0px 1px 2px rgba(60, 64, 67, 0.3), 0px 1px 3px 1px rgba(60, 64, 67, 0.15);\n",
              "      fill: #174EA6;\n",
              "    }\n",
              "\n",
              "    [theme=dark] .colab-df-convert {\n",
              "      background-color: #3B4455;\n",
              "      fill: #D2E3FC;\n",
              "    }\n",
              "\n",
              "    [theme=dark] .colab-df-convert:hover {\n",
              "      background-color: #434B5C;\n",
              "      box-shadow: 0px 1px 3px 1px rgba(0, 0, 0, 0.15);\n",
              "      filter: drop-shadow(0px 1px 2px rgba(0, 0, 0, 0.3));\n",
              "      fill: #FFFFFF;\n",
              "    }\n",
              "  </style>\n",
              "\n",
              "      <script>\n",
              "        const buttonEl =\n",
              "          document.querySelector('#df-3319fcbd-0bc5-4a2d-86e6-6112d829204c button.colab-df-convert');\n",
              "        buttonEl.style.display =\n",
              "          google.colab.kernel.accessAllowed ? 'block' : 'none';\n",
              "\n",
              "        async function convertToInteractive(key) {\n",
              "          const element = document.querySelector('#df-3319fcbd-0bc5-4a2d-86e6-6112d829204c');\n",
              "          const dataTable =\n",
              "            await google.colab.kernel.invokeFunction('convertToInteractive',\n",
              "                                                     [key], {});\n",
              "          if (!dataTable) return;\n",
              "\n",
              "          const docLinkHtml = 'Like what you see? Visit the ' +\n",
              "            '<a target=\"_blank\" href=https://colab.research.google.com/notebooks/data_table.ipynb>data table notebook</a>'\n",
              "            + ' to learn more about interactive tables.';\n",
              "          element.innerHTML = '';\n",
              "          dataTable['output_type'] = 'display_data';\n",
              "          await google.colab.output.renderOutput(dataTable, element);\n",
              "          const docLink = document.createElement('div');\n",
              "          docLink.innerHTML = docLinkHtml;\n",
              "          element.appendChild(docLink);\n",
              "        }\n",
              "      </script>\n",
              "    </div>\n",
              "  </div>\n",
              "  "
            ]
          },
          "metadata": {},
          "execution_count": 40
        }
      ]
    },
    {
      "cell_type": "code",
      "source": [
        "#Quantidade total de produtos vendidos de forma crescente\n",
        "\n",
        "df.groupby(\"Produto\")[\"Quantidade\"].sum().sort_values(ascending=True)"
      ],
      "metadata": {
        "colab": {
          "base_uri": "https://localhost:8080/"
        },
        "id": "Rshe6m8KZe0y",
        "outputId": "e3651e41-2528-4998-887e-34fe07ac04be"
      },
      "execution_count": 42,
      "outputs": [
        {
          "output_type": "execute_result",
          "data": {
            "text/plain": [
              "Produto\n",
              "Fabrikam Trendsetter 1/3'' 8.5mm X200 White          789\n",
              "Fabrikam Trendsetter 1/3'' 8.5mm X200 Grey           845\n",
              "Fabrikam Trendsetter 1/3'' 8.5mm X200 Black          884\n",
              "Fabrikam Trendsetter 2/3'' 17mm X100 Black           926\n",
              "Adventure Works Laptop15.4W M1548 Red               1047\n",
              "Fabrikam Trendsetter 2/3'' 17mm X100 Grey           1087\n",
              "Adventure Works Laptop15.4W M1548 Black             1089\n",
              "Headphone Adapter for Contoso Phone E130 White     25008\n",
              "Headphone Adapter for Contoso Phone E130 Silver    25232\n",
              "Name: Quantidade, dtype: int64"
            ]
          },
          "metadata": {},
          "execution_count": 42
        }
      ]
    },
    {
      "cell_type": "markdown",
      "source": [
        "# **Exibindo gráficos**"
      ],
      "metadata": {
        "id": "zvBkbsj3aYsq"
      }
    },
    {
      "cell_type": "code",
      "source": [
        "#Total de produtos vendidos\n",
        "\n",
        "df.groupby(\"Produto\")[\"Quantidade\"].sum().sort_values(ascending=True).plot.bar(title=\"Total Produtos Vendidos\")\n",
        "plt.xlabel(\"Total\")\n",
        "plt.ylabel(\"Produto\");"
      ],
      "metadata": {
        "colab": {
          "base_uri": "https://localhost:8080/",
          "height": 596
        },
        "id": "0c6RdiBhaYaz",
        "outputId": "1ab43f27-7a88-4860-bbbb-9b0ad5a0a8f0"
      },
      "execution_count": 44,
      "outputs": [
        {
          "output_type": "display_data",
          "data": {
            "text/plain": [
              "<Figure size 576x396 with 1 Axes>"
            ],
            "image/png": "[encoded data removed]"
          },
          "metadata": {}
        }
      ]
    },
    {
      "cell_type": "code",
      "source": [
        "#Lucro por ano\n",
        "\n",
        "df.groupby(df[\"Data Venda\"].dt.year)[\"lucro\"].sum().plot.bar(title=\"Lucro x Ano\")\n",
        "plt.xlabel(\"Ano\")\n",
        "plt.ylabel(\"Receita\");"
      ],
      "metadata": {
        "colab": {
          "base_uri": "https://localhost:8080/",
          "height": 388
        },
        "id": "AXDGf9FLZewS",
        "outputId": "6aaa7a9d-d933-46f0-a98d-a4e5ca6e7146"
      },
      "execution_count": 45,
      "outputs": [
        {
          "output_type": "display_data",
          "data": {
            "text/plain": [
              "<Figure size 576x396 with 1 Axes>"
            ],
            "image/png": "[encoded data removed]"
          },
          "metadata": {}
        }
      ]
    },
    {
      "cell_type": "code",
      "source": [
        "#Lucro por dia\n",
        "\n",
        "df.groupby(df[\"Data Venda\"].dt.year)[\"lucro\"].sum()"
      ],
      "metadata": {
        "colab": {
          "base_uri": "https://localhost:8080/"
        },
        "id": "-0ljRQmvZefz",
        "outputId": "694e4a46-6585-491d-fc04-811557670e06"
      },
      "execution_count": 47,
      "outputs": [
        {
          "output_type": "execute_result",
          "data": {
            "text/plain": [
              "Data Venda\n",
              "2008           1,920,077.71\n",
              "2009           1,577,745.38\n",
              "Name: lucro, dtype: float64"
            ]
          },
          "metadata": {},
          "execution_count": 47
        }
      ]
    },
    {
      "cell_type": "code",
      "source": [
        "#Vendas no ano de 2009\n",
        "\n",
        "df_2009 = df[df[\"Data Venda\"].dt.year == 2009]"
      ],
      "metadata": {
        "id": "FRTaBqmXAUmu"
      },
      "execution_count": 48,
      "outputs": []
    },
    {
      "cell_type": "code",
      "source": [
        "#Verificando o resultado\n",
        "\n",
        "df_2009.head(3)"
      ],
      "metadata": {
        "colab": {
          "base_uri": "https://localhost:8080/",
          "height": 398
        },
        "id": "c2iuXnyuAUkG",
        "outputId": "84ffbf74-9760-44bd-f2fb-625df14051f9"
      },
      "execution_count": 50,
      "outputs": [
        {
          "output_type": "execute_result",
          "data": {
            "text/plain": [
              "   Data Venda Data Envio  ID Loja  ID Produto  ID Cliente       No. Venda  \\\n",
              "11 2009-05-02 2009-05-14      199         384       18938  200905023CS847   \n",
              "12 2009-05-16 2009-05-27      306         384       19067  200905163CS746   \n",
              "13 2009-05-31 2009-06-12      306         384       19068  200905313CS748   \n",
              "\n",
              "         Custo Unitário       Preço Unitário  Quantidade       Valor Desconto  \\\n",
              "11               348.58               758.00           6                 0.00   \n",
              "12               348.58               758.00           6                 0.00   \n",
              "13               348.58               758.00           6                 0.00   \n",
              "\n",
              "            Valor Venda                                Produto  \\\n",
              "11             4,548.00  Adventure Works Laptop15.4W M1548 Red   \n",
              "12             4,548.00  Adventure Works Laptop15.4W M1548 Red   \n",
              "13             4,548.00  Adventure Works Laptop15.4W M1548 Red   \n",
              "\n",
              "         Fabricante            Marca   Classe  Cor                custo  \\\n",
              "11  Adventure Works  Adventure Works  Regular  Red             2,091.48   \n",
              "12  Adventure Works  Adventure Works  Regular  Red             2,091.48   \n",
              "13  Adventure Works  Adventure Works  Regular  Red             2,091.48   \n",
              "\n",
              "                  lucro  Tempo_envio  Tempo de Envio  \n",
              "11             2,456.52           12              12  \n",
              "12             2,456.52           11              11  \n",
              "13             2,456.52           12              12  "
            ],
            "text/html": [
              "\n",
              "  <div id=\"df-736581b8-f779-4863-8e2b-d74e4436042a\">\n",
              "    <div class=\"colab-df-container\">\n",
              "      <div>\n",
              "<style scoped>\n",
              "    .dataframe tbody tr th:only-of-type {\n",
              "        vertical-align: middle;\n",
              "    }\n",
              "\n",
              "    .dataframe tbody tr th {\n",
              "        vertical-align: top;\n",
              "    }\n",
              "\n",
              "    .dataframe thead th {\n",
              "        text-align: right;\n",
              "    }\n",
              "</style>\n",
              "<table border=\"1\" class=\"dataframe\">\n",
              "  <thead>\n",
              "    <tr style=\"text-align: right;\">\n",
              "      <th></th>\n",
              "      <th>Data Venda</th>\n",
              "      <th>Data Envio</th>\n",
              "      <th>ID Loja</th>\n",
              "      <th>ID Produto</th>\n",
              "      <th>ID Cliente</th>\n",
              "      <th>No. Venda</th>\n",
              "      <th>Custo Unitário</th>\n",
              "      <th>Preço Unitário</th>\n",
              "      <th>Quantidade</th>\n",
              "      <th>Valor Desconto</th>\n",
              "      <th>Valor Venda</th>\n",
              "      <th>Produto</th>\n",
              "      <th>Fabricante</th>\n",
              "      <th>Marca</th>\n",
              "      <th>Classe</th>\n",
              "      <th>Cor</th>\n",
              "      <th>custo</th>\n",
              "      <th>lucro</th>\n",
              "      <th>Tempo_envio</th>\n",
              "      <th>Tempo de Envio</th>\n",
              "    </tr>\n",
              "  </thead>\n",
              "  <tbody>\n",
              "    <tr>\n",
              "      <th>11</th>\n",
              "      <td>2009-05-02</td>\n",
              "      <td>2009-05-14</td>\n",
              "      <td>199</td>\n",
              "      <td>384</td>\n",
              "      <td>18938</td>\n",
              "      <td>200905023CS847</td>\n",
              "      <td>348.58</td>\n",
              "      <td>758.00</td>\n",
              "      <td>6</td>\n",
              "      <td>0.00</td>\n",
              "      <td>4,548.00</td>\n",
              "      <td>Adventure Works Laptop15.4W M1548 Red</td>\n",
              "      <td>Adventure Works</td>\n",
              "      <td>Adventure Works</td>\n",
              "      <td>Regular</td>\n",
              "      <td>Red</td>\n",
              "      <td>2,091.48</td>\n",
              "      <td>2,456.52</td>\n",
              "      <td>12</td>\n",
              "      <td>12</td>\n",
              "    </tr>\n",
              "    <tr>\n",
              "      <th>12</th>\n",
              "      <td>2009-05-16</td>\n",
              "      <td>2009-05-27</td>\n",
              "      <td>306</td>\n",
              "      <td>384</td>\n",
              "      <td>19067</td>\n",
              "      <td>200905163CS746</td>\n",
              "      <td>348.58</td>\n",
              "      <td>758.00</td>\n",
              "      <td>6</td>\n",
              "      <td>0.00</td>\n",
              "      <td>4,548.00</td>\n",
              "      <td>Adventure Works Laptop15.4W M1548 Red</td>\n",
              "      <td>Adventure Works</td>\n",
              "      <td>Adventure Works</td>\n",
              "      <td>Regular</td>\n",
              "      <td>Red</td>\n",
              "      <td>2,091.48</td>\n",
              "      <td>2,456.52</td>\n",
              "      <td>11</td>\n",
              "      <td>11</td>\n",
              "    </tr>\n",
              "    <tr>\n",
              "      <th>13</th>\n",
              "      <td>2009-05-31</td>\n",
              "      <td>2009-06-12</td>\n",
              "      <td>306</td>\n",
              "      <td>384</td>\n",
              "      <td>19068</td>\n",
              "      <td>200905313CS748</td>\n",
              "      <td>348.58</td>\n",
              "      <td>758.00</td>\n",
              "      <td>6</td>\n",
              "      <td>0.00</td>\n",
              "      <td>4,548.00</td>\n",
              "      <td>Adventure Works Laptop15.4W M1548 Red</td>\n",
              "      <td>Adventure Works</td>\n",
              "      <td>Adventure Works</td>\n",
              "      <td>Regular</td>\n",
              "      <td>Red</td>\n",
              "      <td>2,091.48</td>\n",
              "      <td>2,456.52</td>\n",
              "      <td>12</td>\n",
              "      <td>12</td>\n",
              "    </tr>\n",
              "  </tbody>\n",
              "</table>\n",
              "</div>\n",
              "      <button class=\"colab-df-convert\" onclick=\"convertToInteractive('df-736581b8-f779-4863-8e2b-d74e4436042a')\"\n",
              "              title=\"Convert this dataframe to an interactive table.\"\n",
              "              style=\"display:none;\">\n",
              "        \n",
              "  <svg xmlns=\"http://www.w3.org/2000/svg\" height=\"24px\"viewBox=\"0 0 24 24\"\n",
              "       width=\"24px\">\n",
              "    <path d=\"M0 0h24v24H0V0z\" fill=\"none\"/>\n",
              "    <path d=\"M18.56 5.44l.94 2.06.94-2.06 2.06-.94-2.06-.94-.94-2.06-.94 2.06-2.06.94zm-11 1L8.5 8.5l.94-2.06 2.06-.94-2.06-.94L8.5 2.5l-.94 2.06-2.06.94zm10 10l.94 2.06.94-2.06 2.06-.94-2.06-.94-.94-2.06-.94 2.06-2.06.94z\"/><path d=\"M17.41 7.96l-1.37-1.37c-.4-.4-.92-.59-1.43-.59-.52 0-1.04.2-1.43.59L10.3 9.45l-7.72 7.72c-.78.78-.78 2.05 0 2.83L4 21.41c.39.39.9.59 1.41.59.51 0 1.02-.2 1.41-.59l7.78-7.78 2.81-2.81c.8-.78.8-2.07 0-2.86zM5.41 20L4 18.59l7.72-7.72 1.47 1.35L5.41 20z\"/>\n",
              "  </svg>\n",
              "      </button>\n",
              "      \n",
              "  <style>\n",
              "    .colab-df-container {\n",
              "      display:flex;\n",
              "      flex-wrap:wrap;\n",
              "      gap: 12px;\n",
              "    }\n",
              "\n",
              "    .colab-df-convert {\n",
              "      background-color: #E8F0FE;\n",
              "      border: none;\n",
              "      border-radius: 50%;\n",
              "      cursor: pointer;\n",
              "      display: none;\n",
              "      fill: #1967D2;\n",
              "      height: 32px;\n",
              "      padding: 0 0 0 0;\n",
              "      width: 32px;\n",
              "    }\n",
              "\n",
              "    .colab-df-convert:hover {\n",
              "      background-color: #E2EBFA;\n",
              "      box-shadow: 0px 1px 2px rgba(60, 64, 67, 0.3), 0px 1px 3px 1px rgba(60, 64, 67, 0.15);\n",
              "      fill: #174EA6;\n",
              "    }\n",
              "\n",
              "    [theme=dark] .colab-df-convert {\n",
              "      background-color: #3B4455;\n",
              "      fill: #D2E3FC;\n",
              "    }\n",
              "\n",
              "    [theme=dark] .colab-df-convert:hover {\n",
              "      background-color: #434B5C;\n",
              "      box-shadow: 0px 1px 3px 1px rgba(0, 0, 0, 0.15);\n",
              "      filter: drop-shadow(0px 1px 2px rgba(0, 0, 0, 0.3));\n",
              "      fill: #FFFFFF;\n",
              "    }\n",
              "  </style>\n",
              "\n",
              "      <script>\n",
              "        const buttonEl =\n",
              "          document.querySelector('#df-736581b8-f779-4863-8e2b-d74e4436042a button.colab-df-convert');\n",
              "        buttonEl.style.display =\n",
              "          google.colab.kernel.accessAllowed ? 'block' : 'none';\n",
              "\n",
              "        async function convertToInteractive(key) {\n",
              "          const element = document.querySelector('#df-736581b8-f779-4863-8e2b-d74e4436042a');\n",
              "          const dataTable =\n",
              "            await google.colab.kernel.invokeFunction('convertToInteractive',\n",
              "                                                     [key], {});\n",
              "          if (!dataTable) return;\n",
              "\n",
              "          const docLinkHtml = 'Like what you see? Visit the ' +\n",
              "            '<a target=\"_blank\" href=https://colab.research.google.com/notebooks/data_table.ipynb>data table notebook</a>'\n",
              "            + ' to learn more about interactive tables.';\n",
              "          element.innerHTML = '';\n",
              "          dataTable['output_type'] = 'display_data';\n",
              "          await google.colab.output.renderOutput(dataTable, element);\n",
              "          const docLink = document.createElement('div');\n",
              "          docLink.innerHTML = docLinkHtml;\n",
              "          element.appendChild(docLink);\n",
              "        }\n",
              "      </script>\n",
              "    </div>\n",
              "  </div>\n",
              "  "
            ]
          },
          "metadata": {},
          "execution_count": 50
        }
      ]
    },
    {
      "cell_type": "code",
      "source": [
        "#Lucro por mês no ano de 2009\n",
        "\n",
        "df_2009.groupby(df_2009[\"Data Venda\"].dt.month)[\"lucro\"].sum().plot(title=\"Lucro x Mês\")\n",
        "plt.xlabel(\"Mês\")\n",
        "plt.ylabel(\"Lucro\");"
      ],
      "metadata": {
        "colab": {
          "base_uri": "https://localhost:8080/",
          "height": 735
        },
        "id": "PKcs8ZTcAUhu",
        "outputId": "1a47b990-a688-42ad-90cb-b7ca13c3fa15"
      },
      "execution_count": 53,
      "outputs": [
        {
          "output_type": "display_data",
          "data": {
            "text/plain": [
              "<Figure size 576x396 with 1 Axes>"
            ],
            "image/png": "[encoded data removed]"
          },
          "metadata": {}
        },
        {
          "output_type": "display_data",
          "data": {
            "text/plain": [
              "<Figure size 576x396 with 1 Axes>"
            ],
            "image/png": "[encoded data removed]"
          },
          "metadata": {}
        }
      ]
    },
    {
      "cell_type": "code",
      "source": [
        "#Lucro por marca\n",
        "\n",
        "df_2009.groupby(\"Marca\")[\"lucro\"].sum().plot.bar(title=\"Lucro x Marca\")\n",
        "plt.xlabel(\"Marca\")\n",
        "plt.ylabel(\"Lucro\")\n",
        "plt.xticks(rotation='horizontal');"
      ],
      "metadata": {
        "colab": {
          "base_uri": "https://localhost:8080/",
          "height": 376
        },
        "id": "SdM0Fjx8Cfch",
        "outputId": "407dee51-3450-4172-848e-f229fa37b3f4"
      },
      "execution_count": 52,
      "outputs": [
        {
          "output_type": "display_data",
          "data": {
            "text/plain": [
              "<Figure size 576x396 with 1 Axes>"
            ],
            "image/png": "[encoded data removed]"
          },
          "metadata": {}
        }
      ]
    },
    {
      "cell_type": "code",
      "source": [
        "#Lucro por classe\n",
        "\n",
        "df_2009.groupby(\"Classe\")[\"lucro\"].sum().plot.bar(title=\"Lucro x Classe\")\n",
        "plt.xlabel(\"Classe\")\n",
        "plt.ylabel(\"Lucro\")\n",
        "plt.xticks(rotation='horizontal');"
      ],
      "metadata": {
        "colab": {
          "base_uri": "https://localhost:8080/",
          "height": 376
        },
        "id": "F5mxiVG0CfZp",
        "outputId": "e84c3db4-a759-4435-b1f0-09513ddbe9cb"
      },
      "execution_count": 54,
      "outputs": [
        {
          "output_type": "display_data",
          "data": {
            "text/plain": [
              "<Figure size 576x396 with 1 Axes>"
            ],
            "image/png": "[encoded data removed]"
          },
          "metadata": {}
        }
      ]
    },
    {
      "cell_type": "code",
      "source": [
        "#Teste de Boxplot utilizando o tempo de envio\n",
        "plt.boxplot(df[\"Tempo de Envio\"]);"
      ],
      "metadata": {
        "colab": {
          "base_uri": "https://localhost:8080/",
          "height": 347
        },
        "id": "URknYEDXCfWo",
        "outputId": "971f48fd-5669-4615-a1be-5ec330693a4a"
      },
      "execution_count": 55,
      "outputs": [
        {
          "output_type": "display_data",
          "data": {
            "text/plain": [
              "<Figure size 576x396 with 1 Axes>"
            ],
            "image/png": "[encoded data removed]"
          },
          "metadata": {}
        }
      ]
    },
    {
      "cell_type": "code",
      "source": [
        "#Histograma do tempo de envio\n",
        "plt.hist(df[\"Tempo de Envio\"]);"
      ],
      "metadata": {
        "colab": {
          "base_uri": "https://localhost:8080/",
          "height": 347
        },
        "id": "qoHMMWj3CfT9",
        "outputId": "6da4da0d-9655-4854-e4cd-a470cfe92563"
      },
      "execution_count": 57,
      "outputs": [
        {
          "output_type": "display_data",
          "data": {
            "text/plain": [
              "<Figure size 576x396 with 1 Axes>"
            ],
            "image/png": "[encoded data removed]"
          },
          "metadata": {}
        }
      ]
    },
    {
      "cell_type": "code",
      "source": [
        "#Exibindo o menor tempo de envio\n",
        "df[\"Tempo de envio\"].min()"
      ],
      "metadata": {
        "colab": {
          "base_uri": "https://localhost:8080/"
        },
        "id": "Xq3dbr7_CfRd",
        "outputId": "352f0438-20e0-4ae2-e9b8-0aba2ea5b4f5"
      },
      "execution_count": 58,
      "outputs": [
        {
          "output_type": "execute_result",
          "data": {
            "text/plain": [
              "4"
            ]
          },
          "metadata": {},
          "execution_count": 58
        }
      ]
    },
    {
      "cell_type": "code",
      "source": [
        "#Exibindo o maior tempo de envio\n",
        "df['Tempo de envio'].max()"
      ],
      "metadata": {
        "colab": {
          "base_uri": "https://localhost:8080/"
        },
        "id": "3pCCwT-LCfPF",
        "outputId": "1577985c-d6f6-4ab1-f09f-a7c58a343041"
      },
      "execution_count": 59,
      "outputs": [
        {
          "output_type": "execute_result",
          "data": {
            "text/plain": [
              "20"
            ]
          },
          "metadata": {},
          "execution_count": 59
        }
      ]
    },
    {
      "cell_type": "code",
      "source": [
        "#O Outlier\n",
        "df[df[\"Tempo de envio\"] == 20]"
      ],
      "metadata": {
        "colab": {
          "base_uri": "https://localhost:8080/",
          "height": 232
        },
        "id": "lY7h65OJAUe4",
        "outputId": "3d9330ab-49af-4851-857b-adf39302b0d0"
      },
      "execution_count": 60,
      "outputs": [
        {
          "output_type": "execute_result",
          "data": {
            "text/plain": [
              "  Data Venda Data Envio  ID Loja  ID Produto  ID Cliente       No. Venda  \\\n",
              "0 2008-05-09 2008-05-29      199         384       18839  200805093CS607   \n",
              "\n",
              "        Custo Unitário       Preço Unitário  Quantidade       Valor Desconto  \\\n",
              "0               348.58               758.00           6                 0.00   \n",
              "\n",
              "           Valor Venda                                Produto  \\\n",
              "0             4,548.00  Adventure Works Laptop15.4W M1548 Red   \n",
              "\n",
              "        Fabricante            Marca   Classe  Cor                custo  \\\n",
              "0  Adventure Works  Adventure Works  Regular  Red             2,091.48   \n",
              "\n",
              "                 lucro  Tempo_envio  Tempo de Envio  \n",
              "0             2,456.52           20              20  "
            ],
            "text/html": [
              "\n",
              "  <div id=\"df-33982582-a8d4-4eb8-93dc-77e80a9b6950\">\n",
              "    <div class=\"colab-df-container\">\n",
              "      <div>\n",
              "<style scoped>\n",
              "    .dataframe tbody tr th:only-of-type {\n",
              "        vertical-align: middle;\n",
              "    }\n",
              "\n",
              "    .dataframe tbody tr th {\n",
              "        vertical-align: top;\n",
              "    }\n",
              "\n",
              "    .dataframe thead th {\n",
              "        text-align: right;\n",
              "    }\n",
              "</style>\n",
              "<table border=\"1\" class=\"dataframe\">\n",
              "  <thead>\n",
              "    <tr style=\"text-align: right;\">\n",
              "      <th></th>\n",
              "      <th>Data Venda</th>\n",
              "      <th>Data Envio</th>\n",
              "      <th>ID Loja</th>\n",
              "      <th>ID Produto</th>\n",
              "      <th>ID Cliente</th>\n",
              "      <th>No. Venda</th>\n",
              "      <th>Custo Unitário</th>\n",
              "      <th>Preço Unitário</th>\n",
              "      <th>Quantidade</th>\n",
              "      <th>Valor Desconto</th>\n",
              "      <th>Valor Venda</th>\n",
              "      <th>Produto</th>\n",
              "      <th>Fabricante</th>\n",
              "      <th>Marca</th>\n",
              "      <th>Classe</th>\n",
              "      <th>Cor</th>\n",
              "      <th>custo</th>\n",
              "      <th>lucro</th>\n",
              "      <th>Tempo_envio</th>\n",
              "      <th>Tempo de Envio</th>\n",
              "    </tr>\n",
              "  </thead>\n",
              "  <tbody>\n",
              "    <tr>\n",
              "      <th>0</th>\n",
              "      <td>2008-05-09</td>\n",
              "      <td>2008-05-29</td>\n",
              "      <td>199</td>\n",
              "      <td>384</td>\n",
              "      <td>18839</td>\n",
              "      <td>200805093CS607</td>\n",
              "      <td>348.58</td>\n",
              "      <td>758.00</td>\n",
              "      <td>6</td>\n",
              "      <td>0.00</td>\n",
              "      <td>4,548.00</td>\n",
              "      <td>Adventure Works Laptop15.4W M1548 Red</td>\n",
              "      <td>Adventure Works</td>\n",
              "      <td>Adventure Works</td>\n",
              "      <td>Regular</td>\n",
              "      <td>Red</td>\n",
              "      <td>2,091.48</td>\n",
              "      <td>2,456.52</td>\n",
              "      <td>20</td>\n",
              "      <td>20</td>\n",
              "    </tr>\n",
              "  </tbody>\n",
              "</table>\n",
              "</div>\n",
              "      <button class=\"colab-df-convert\" onclick=\"convertToInteractive('df-33982582-a8d4-4eb8-93dc-77e80a9b6950')\"\n",
              "              title=\"Convert this dataframe to an interactive table.\"\n",
              "              style=\"display:none;\">\n",
              "        \n",
              "  <svg xmlns=\"http://www.w3.org/2000/svg\" height=\"24px\"viewBox=\"0 0 24 24\"\n",
              "       width=\"24px\">\n",
              "    <path d=\"M0 0h24v24H0V0z\" fill=\"none\"/>\n",
              "    <path d=\"M18.56 5.44l.94 2.06.94-2.06 2.06-.94-2.06-.94-.94-2.06-.94 2.06-2.06.94zm-11 1L8.5 8.5l.94-2.06 2.06-.94-2.06-.94L8.5 2.5l-.94 2.06-2.06.94zm10 10l.94 2.06.94-2.06 2.06-.94-2.06-.94-.94-2.06-.94 2.06-2.06.94z\"/><path d=\"M17.41 7.96l-1.37-1.37c-.4-.4-.92-.59-1.43-.59-.52 0-1.04.2-1.43.59L10.3 9.45l-7.72 7.72c-.78.78-.78 2.05 0 2.83L4 21.41c.39.39.9.59 1.41.59.51 0 1.02-.2 1.41-.59l7.78-7.78 2.81-2.81c.8-.78.8-2.07 0-2.86zM5.41 20L4 18.59l7.72-7.72 1.47 1.35L5.41 20z\"/>\n",
              "  </svg>\n",
              "      </button>\n",
              "      \n",
              "  <style>\n",
              "    .colab-df-container {\n",
              "      display:flex;\n",
              "      flex-wrap:wrap;\n",
              "      gap: 12px;\n",
              "    }\n",
              "\n",
              "    .colab-df-convert {\n",
              "      background-color: #E8F0FE;\n",
              "      border: none;\n",
              "      border-radius: 50%;\n",
              "      cursor: pointer;\n",
              "      display: none;\n",
              "      fill: #1967D2;\n",
              "      height: 32px;\n",
              "      padding: 0 0 0 0;\n",
              "      width: 32px;\n",
              "    }\n",
              "\n",
              "    .colab-df-convert:hover {\n",
              "      background-color: #E2EBFA;\n",
              "      box-shadow: 0px 1px 2px rgba(60, 64, 67, 0.3), 0px 1px 3px 1px rgba(60, 64, 67, 0.15);\n",
              "      fill: #174EA6;\n",
              "    }\n",
              "\n",
              "    [theme=dark] .colab-df-convert {\n",
              "      background-color: #3B4455;\n",
              "      fill: #D2E3FC;\n",
              "    }\n",
              "\n",
              "    [theme=dark] .colab-df-convert:hover {\n",
              "      background-color: #434B5C;\n",
              "      box-shadow: 0px 1px 3px 1px rgba(0, 0, 0, 0.15);\n",
              "      filter: drop-shadow(0px 1px 2px rgba(0, 0, 0, 0.3));\n",
              "      fill: #FFFFFF;\n",
              "    }\n",
              "  </style>\n",
              "\n",
              "      <script>\n",
              "        const buttonEl =\n",
              "          document.querySelector('#df-33982582-a8d4-4eb8-93dc-77e80a9b6950 button.colab-df-convert');\n",
              "        buttonEl.style.display =\n",
              "          google.colab.kernel.accessAllowed ? 'block' : 'none';\n",
              "\n",
              "        async function convertToInteractive(key) {\n",
              "          const element = document.querySelector('#df-33982582-a8d4-4eb8-93dc-77e80a9b6950');\n",
              "          const dataTable =\n",
              "            await google.colab.kernel.invokeFunction('convertToInteractive',\n",
              "                                                     [key], {});\n",
              "          if (!dataTable) return;\n",
              "\n",
              "          const docLinkHtml = 'Like what you see? Visit the ' +\n",
              "            '<a target=\"_blank\" href=https://colab.research.google.com/notebooks/data_table.ipynb>data table notebook</a>'\n",
              "            + ' to learn more about interactive tables.';\n",
              "          element.innerHTML = '';\n",
              "          dataTable['output_type'] = 'display_data';\n",
              "          await google.colab.output.renderOutput(dataTable, element);\n",
              "          const docLink = document.createElement('div');\n",
              "          docLink.innerHTML = docLinkHtml;\n",
              "          element.appendChild(docLink);\n",
              "        }\n",
              "      </script>\n",
              "    </div>\n",
              "  </div>\n",
              "  "
            ]
          },
          "metadata": {},
          "execution_count": 60
        }
      ]
    },
    {
      "cell_type": "code",
      "source": [
        "#Exibindo as estatísticas\n",
        "\n",
        "df[\"Tempo de envio\"].describe()"
      ],
      "metadata": {
        "id": "zS8tRBWCD-aW",
        "outputId": "95182f20-1bfb-4792-e1de-c7b0ef5b5451",
        "colab": {
          "base_uri": "https://localhost:8080/"
        }
      },
      "execution_count": 61,
      "outputs": [
        {
          "output_type": "execute_result",
          "data": {
            "text/plain": [
              "count                 904.00\n",
              "mean                    8.54\n",
              "std                     3.06\n",
              "min                     4.00\n",
              "25%                     6.00\n",
              "50%                     9.00\n",
              "75%                    11.00\n",
              "max                    20.00\n",
              "Name: Tempo_envio, dtype: float64"
            ]
          },
          "metadata": {},
          "execution_count": 61
        }
      ]
    },
    {
      "cell_type": "code",
      "source": [
        "#Exportando para uma planilha CSV\n",
        "\n",
        "df.to_csv(\"df_vendas_novo.csv\", index=False)"
      ],
      "metadata": {
        "id": "GvCtuR3CD7-V"
      },
      "execution_count": 62,
      "outputs": []
    }
  ]
}